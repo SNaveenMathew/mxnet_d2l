{
  "nbformat": 4,
  "nbformat_minor": 0,
  "metadata": {
    "colab": {
      "name": "2.3. Linear Algebra.ipynb",
      "provenance": []
    },
    "kernelspec": {
      "name": "python3",
      "display_name": "Python 3"
    }
  },
  "cells": [
    {
      "cell_type": "code",
      "metadata": {
        "id": "rQhOMDIAnqtm",
        "colab_type": "code",
        "colab": {
          "base_uri": "https://localhost:8080/",
          "height": 168
        },
        "outputId": "f585a353-dfaa-4e1c-b68c-9fff7b21cf64"
      },
      "source": [
        "!pip install mxnet\n",
        "\n",
        "from mxnet import np, npx\n",
        "npx.set_np()\n",
        "\n",
        "x = np.array([1.0])\n",
        "y = np.array([2.0])\n",
        "\n",
        "x + y, x * y, x / y, x ** y"
      ],
      "execution_count": 1,
      "outputs": [
        {
          "output_type": "stream",
          "text": [
            "Requirement already satisfied: mxnet in /usr/local/lib/python3.6/dist-packages (1.6.0)\n",
            "Requirement already satisfied: numpy<2.0.0,>1.16.0 in /usr/local/lib/python3.6/dist-packages (from mxnet) (1.17.5)\n",
            "Requirement already satisfied: requests<3,>=2.20.0 in /usr/local/lib/python3.6/dist-packages (from mxnet) (2.21.0)\n",
            "Requirement already satisfied: graphviz<0.9.0,>=0.8.1 in /usr/local/lib/python3.6/dist-packages (from mxnet) (0.8.4)\n",
            "Requirement already satisfied: certifi>=2017.4.17 in /usr/local/lib/python3.6/dist-packages (from requests<3,>=2.20.0->mxnet) (2019.11.28)\n",
            "Requirement already satisfied: urllib3<1.25,>=1.21.1 in /usr/local/lib/python3.6/dist-packages (from requests<3,>=2.20.0->mxnet) (1.24.3)\n",
            "Requirement already satisfied: chardet<3.1.0,>=3.0.2 in /usr/local/lib/python3.6/dist-packages (from requests<3,>=2.20.0->mxnet) (3.0.4)\n",
            "Requirement already satisfied: idna<2.9,>=2.5 in /usr/local/lib/python3.6/dist-packages (from requests<3,>=2.20.0->mxnet) (2.8)\n"
          ],
          "name": "stdout"
        },
        {
          "output_type": "execute_result",
          "data": {
            "text/plain": [
              "(array([3.]), array([2.]), array([0.5]), array([1.]))"
            ]
          },
          "metadata": {
            "tags": []
          },
          "execution_count": 1
        }
      ]
    },
    {
      "cell_type": "code",
      "metadata": {
        "id": "6thSCVxMoTh7",
        "colab_type": "code",
        "colab": {
          "base_uri": "https://localhost:8080/",
          "height": 34
        },
        "outputId": "c8f3ae15-4eec-4579-abca-bcf7dbbd603b"
      },
      "source": [
        "x = np.array([i for i in range(10)])\n",
        "x"
      ],
      "execution_count": 2,
      "outputs": [
        {
          "output_type": "execute_result",
          "data": {
            "text/plain": [
              "array([0., 1., 2., 3., 4., 5., 6., 7., 8., 9.])"
            ]
          },
          "metadata": {
            "tags": []
          },
          "execution_count": 2
        }
      ]
    },
    {
      "cell_type": "code",
      "metadata": {
        "id": "kStmsegvobCc",
        "colab_type": "code",
        "colab": {
          "base_uri": "https://localhost:8080/",
          "height": 34
        },
        "outputId": "aec2a27d-5371-409a-de4b-c311360331d0"
      },
      "source": [
        "len(x), x.shape"
      ],
      "execution_count": 3,
      "outputs": [
        {
          "output_type": "execute_result",
          "data": {
            "text/plain": [
              "(10, (10,))"
            ]
          },
          "metadata": {
            "tags": []
          },
          "execution_count": 3
        }
      ]
    },
    {
      "cell_type": "code",
      "metadata": {
        "id": "IExMWo_HogVq",
        "colab_type": "code",
        "colab": {
          "base_uri": "https://localhost:8080/",
          "height": 101
        },
        "outputId": "d2b1f711-cea6-4430-c7f4-d7cee7a0f949"
      },
      "source": [
        "mat = np.arange(30).reshape((5, 6))\n",
        "mat"
      ],
      "execution_count": 4,
      "outputs": [
        {
          "output_type": "execute_result",
          "data": {
            "text/plain": [
              "array([[ 0.,  1.,  2.,  3.,  4.,  5.],\n",
              "       [ 6.,  7.,  8.,  9., 10., 11.],\n",
              "       [12., 13., 14., 15., 16., 17.],\n",
              "       [18., 19., 20., 21., 22., 23.],\n",
              "       [24., 25., 26., 27., 28., 29.]])"
            ]
          },
          "metadata": {
            "tags": []
          },
          "execution_count": 4
        }
      ]
    },
    {
      "cell_type": "code",
      "metadata": {
        "id": "c6YQ3gZPonlE",
        "colab_type": "code",
        "colab": {
          "base_uri": "https://localhost:8080/",
          "height": 118
        },
        "outputId": "d91a67e7-3e8a-4ed6-9d15-92ae2a64c77b"
      },
      "source": [
        "mat.T"
      ],
      "execution_count": 5,
      "outputs": [
        {
          "output_type": "execute_result",
          "data": {
            "text/plain": [
              "array([[ 0.,  6., 12., 18., 24.],\n",
              "       [ 1.,  7., 13., 19., 25.],\n",
              "       [ 2.,  8., 14., 20., 26.],\n",
              "       [ 3.,  9., 15., 21., 27.],\n",
              "       [ 4., 10., 16., 22., 28.],\n",
              "       [ 5., 11., 17., 23., 29.]])"
            ]
          },
          "metadata": {
            "tags": []
          },
          "execution_count": 5
        }
      ]
    },
    {
      "cell_type": "code",
      "metadata": {
        "id": "RHzD9ngPoppR",
        "colab_type": "code",
        "colab": {
          "base_uri": "https://localhost:8080/",
          "height": 168
        },
        "outputId": "27003cbe-6298-4428-d166-9716fcb54836"
      },
      "source": [
        "tens = np.arange(40).reshape((2, 4, 5))\n",
        "tens"
      ],
      "execution_count": 6,
      "outputs": [
        {
          "output_type": "execute_result",
          "data": {
            "text/plain": [
              "array([[[ 0.,  1.,  2.,  3.,  4.],\n",
              "        [ 5.,  6.,  7.,  8.,  9.],\n",
              "        [10., 11., 12., 13., 14.],\n",
              "        [15., 16., 17., 18., 19.]],\n",
              "\n",
              "       [[20., 21., 22., 23., 24.],\n",
              "        [25., 26., 27., 28., 29.],\n",
              "        [30., 31., 32., 33., 34.],\n",
              "        [35., 36., 37., 38., 39.]]])"
            ]
          },
          "metadata": {
            "tags": []
          },
          "execution_count": 6
        }
      ]
    },
    {
      "cell_type": "code",
      "metadata": {
        "id": "0SYA9k4kozFr",
        "colab_type": "code",
        "colab": {
          "base_uri": "https://localhost:8080/",
          "height": 168
        },
        "outputId": "40dc742b-6717-48c2-a120-3da0cf1dd687"
      },
      "source": [
        "B = tens.copy()\n",
        "tens + B == 2 * tens"
      ],
      "execution_count": 7,
      "outputs": [
        {
          "output_type": "execute_result",
          "data": {
            "text/plain": [
              "array([[[ True,  True,  True,  True,  True],\n",
              "        [ True,  True,  True,  True,  True],\n",
              "        [ True,  True,  True,  True,  True],\n",
              "        [ True,  True,  True,  True,  True]],\n",
              "\n",
              "       [[ True,  True,  True,  True,  True],\n",
              "        [ True,  True,  True,  True,  True],\n",
              "        [ True,  True,  True,  True,  True],\n",
              "        [ True,  True,  True,  True,  True]]])"
            ]
          },
          "metadata": {
            "tags": []
          },
          "execution_count": 7
        }
      ]
    },
    {
      "cell_type": "code",
      "metadata": {
        "id": "_z0U22oko9Cu",
        "colab_type": "code",
        "colab": {
          "base_uri": "https://localhost:8080/",
          "height": 168
        },
        "outputId": "453bfabe-7861-4deb-e43e-40a857d97ab4"
      },
      "source": [
        "B * tens # Does element-wise multiplication"
      ],
      "execution_count": 8,
      "outputs": [
        {
          "output_type": "execute_result",
          "data": {
            "text/plain": [
              "array([[[0.000e+00, 1.000e+00, 4.000e+00, 9.000e+00, 1.600e+01],\n",
              "        [2.500e+01, 3.600e+01, 4.900e+01, 6.400e+01, 8.100e+01],\n",
              "        [1.000e+02, 1.210e+02, 1.440e+02, 1.690e+02, 1.960e+02],\n",
              "        [2.250e+02, 2.560e+02, 2.890e+02, 3.240e+02, 3.610e+02]],\n",
              "\n",
              "       [[4.000e+02, 4.410e+02, 4.840e+02, 5.290e+02, 5.760e+02],\n",
              "        [6.250e+02, 6.760e+02, 7.290e+02, 7.840e+02, 8.410e+02],\n",
              "        [9.000e+02, 9.610e+02, 1.024e+03, 1.089e+03, 1.156e+03],\n",
              "        [1.225e+03, 1.296e+03, 1.369e+03, 1.444e+03, 1.521e+03]]])"
            ]
          },
          "metadata": {
            "tags": []
          },
          "execution_count": 8
        }
      ]
    },
    {
      "cell_type": "code",
      "metadata": {
        "id": "m7laGEhQp9O1",
        "colab_type": "code",
        "colab": {
          "base_uri": "https://localhost:8080/",
          "height": 168
        },
        "outputId": "e3bbbc8d-1987-41c4-8754-23e5a075d844"
      },
      "source": [
        "np.multiply(B, tens) # Does the same thing as above"
      ],
      "execution_count": 10,
      "outputs": [
        {
          "output_type": "execute_result",
          "data": {
            "text/plain": [
              "array([[[0.000e+00, 1.000e+00, 4.000e+00, 9.000e+00, 1.600e+01],\n",
              "        [2.500e+01, 3.600e+01, 4.900e+01, 6.400e+01, 8.100e+01],\n",
              "        [1.000e+02, 1.210e+02, 1.440e+02, 1.690e+02, 1.960e+02],\n",
              "        [2.250e+02, 2.560e+02, 2.890e+02, 3.240e+02, 3.610e+02]],\n",
              "\n",
              "       [[4.000e+02, 4.410e+02, 4.840e+02, 5.290e+02, 5.760e+02],\n",
              "        [6.250e+02, 6.760e+02, 7.290e+02, 7.840e+02, 8.410e+02],\n",
              "        [9.000e+02, 9.610e+02, 1.024e+03, 1.089e+03, 1.156e+03],\n",
              "        [1.225e+03, 1.296e+03, 1.369e+03, 1.444e+03, 1.521e+03]]])"
            ]
          },
          "metadata": {
            "tags": []
          },
          "execution_count": 10
        }
      ]
    },
    {
      "cell_type": "code",
      "metadata": {
        "id": "lg8iK3KwpIFS",
        "colab_type": "code",
        "colab": {
          "base_uri": "https://localhost:8080/",
          "height": 34
        },
        "outputId": "7e350447-9831-4960-c708-19086e111183"
      },
      "source": [
        "tens1 = np.arange(6).reshape((2, 3))\n",
        "tens1.sum(axis = 0) # Reduction sum"
      ],
      "execution_count": 11,
      "outputs": [
        {
          "output_type": "execute_result",
          "data": {
            "text/plain": [
              "array([3., 5., 7.])"
            ]
          },
          "metadata": {
            "tags": []
          },
          "execution_count": 11
        }
      ]
    },
    {
      "cell_type": "code",
      "metadata": {
        "id": "qD71Fw5WpcVA",
        "colab_type": "code",
        "colab": {
          "base_uri": "https://localhost:8080/",
          "height": 34
        },
        "outputId": "4e8ba62d-68aa-40b6-d7f9-79bb5af23007"
      },
      "source": [
        "tens1.sum(axis = 0, keepdims = True) # Non-reduction column sum"
      ],
      "execution_count": 12,
      "outputs": [
        {
          "output_type": "execute_result",
          "data": {
            "text/plain": [
              "array([[3., 5., 7.]])"
            ]
          },
          "metadata": {
            "tags": []
          },
          "execution_count": 12
        }
      ]
    },
    {
      "cell_type": "code",
      "metadata": {
        "id": "3XoUBOqCqaY7",
        "colab_type": "code",
        "colab": {
          "base_uri": "https://localhost:8080/",
          "height": 50
        },
        "outputId": "2aee5500-2e2c-4977-f872-ff0e18266691"
      },
      "source": [
        "tens1.sum(axis = 1, keepdims = True) # Non-reduction row sum"
      ],
      "execution_count": 13,
      "outputs": [
        {
          "output_type": "execute_result",
          "data": {
            "text/plain": [
              "array([[ 3.],\n",
              "       [12.]])"
            ]
          },
          "metadata": {
            "tags": []
          },
          "execution_count": 13
        }
      ]
    },
    {
      "cell_type": "code",
      "metadata": {
        "id": "TIIsUWunqwUH",
        "colab_type": "code",
        "colab": {
          "base_uri": "https://localhost:8080/",
          "height": 84
        },
        "outputId": "5e5a3398-b643-4c9f-bb19-a3ee51d1d559"
      },
      "source": [
        "cs = tens1.sum(axis = 0, keepdims = True) # Non-reduction column sum\n",
        "rs = tens1.sum(axis = 1, keepdims = True) # Non-reduction row sum\n",
        "tens1 / cs, tens1 / rs"
      ],
      "execution_count": 14,
      "outputs": [
        {
          "output_type": "execute_result",
          "data": {
            "text/plain": [
              "(array([[0.        , 0.2       , 0.2857143 ],\n",
              "        [1.        , 0.8       , 0.71428573]]),\n",
              " array([[0.        , 0.33333334, 0.6666667 ],\n",
              "        [0.25      , 0.33333334, 0.41666666]]))"
            ]
          },
          "metadata": {
            "tags": []
          },
          "execution_count": 14
        }
      ]
    },
    {
      "cell_type": "code",
      "metadata": {
        "id": "O3_7pMhJrABx",
        "colab_type": "code",
        "colab": {
          "base_uri": "https://localhost:8080/",
          "height": 50
        },
        "outputId": "f669e6cf-6a6d-4e10-df47-a78d8e34d0f7"
      },
      "source": [
        "tens1.cumsum(axis = 0) # Top to bottom in column"
      ],
      "execution_count": 16,
      "outputs": [
        {
          "output_type": "execute_result",
          "data": {
            "text/plain": [
              "array([[0., 1., 2.],\n",
              "       [3., 5., 7.]])"
            ]
          },
          "metadata": {
            "tags": []
          },
          "execution_count": 16
        }
      ]
    },
    {
      "cell_type": "code",
      "metadata": {
        "id": "QA2ZePZyrHzV",
        "colab_type": "code",
        "colab": {
          "base_uri": "https://localhost:8080/",
          "height": 50
        },
        "outputId": "4c2743f9-5118-4b84-e23a-75a002c36519"
      },
      "source": [
        "tens1.cumsum(axis = 1) # Left to right in row"
      ],
      "execution_count": 17,
      "outputs": [
        {
          "output_type": "execute_result",
          "data": {
            "text/plain": [
              "array([[ 0.,  1.,  3.],\n",
              "       [ 3.,  7., 12.]])"
            ]
          },
          "metadata": {
            "tags": []
          },
          "execution_count": 17
        }
      ]
    },
    {
      "cell_type": "code",
      "metadata": {
        "id": "Ckv3TzUtrUUV",
        "colab_type": "code",
        "colab": {
          "base_uri": "https://localhost:8080/",
          "height": 50
        },
        "outputId": "f764a371-7dce-453b-f8fd-7616751497d0"
      },
      "source": [
        "np.dot(tens1, tens1.T) # Does matrix multiplication. Doesn't have matmul!"
      ],
      "execution_count": 19,
      "outputs": [
        {
          "output_type": "execute_result",
          "data": {
            "text/plain": [
              "array([[ 5., 14.],\n",
              "       [14., 50.]])"
            ]
          },
          "metadata": {
            "tags": []
          },
          "execution_count": 19
        }
      ]
    },
    {
      "cell_type": "code",
      "metadata": {
        "id": "pxehfiOArZ4W",
        "colab_type": "code",
        "colab": {
          "base_uri": "https://localhost:8080/",
          "height": 34
        },
        "outputId": "ee3808c6-ee69-445c-fdcd-adf75311cfb4"
      },
      "source": [
        "v = np.array([3, -4])\n",
        "np.linalg.norm(v) # Vector (L2) norm"
      ],
      "execution_count": 20,
      "outputs": [
        {
          "output_type": "execute_result",
          "data": {
            "text/plain": [
              "array(5.)"
            ]
          },
          "metadata": {
            "tags": []
          },
          "execution_count": 20
        }
      ]
    },
    {
      "cell_type": "code",
      "metadata": {
        "id": "AGuPn5idrspX",
        "colab_type": "code",
        "colab": {
          "base_uri": "https://localhost:8080/",
          "height": 34
        },
        "outputId": "1cdc4cbb-24be-43d7-b573-563e3467c431"
      },
      "source": [
        "np.abs(v).sum() # Vector (L1) norm"
      ],
      "execution_count": 21,
      "outputs": [
        {
          "output_type": "execute_result",
          "data": {
            "text/plain": [
              "array(7.)"
            ]
          },
          "metadata": {
            "tags": []
          },
          "execution_count": 21
        }
      ]
    },
    {
      "cell_type": "code",
      "metadata": {
        "id": "JsRrLVeTr3QN",
        "colab_type": "code",
        "colab": {
          "base_uri": "https://localhost:8080/",
          "height": 34
        },
        "outputId": "554b89ce-703b-4326-eef6-3ccd7816ba69"
      },
      "source": [
        "np.linalg.norm(np.ones((4, 9))) # Frobenius norm of matrix: sum of squares of each element"
      ],
      "execution_count": 22,
      "outputs": [
        {
          "output_type": "execute_result",
          "data": {
            "text/plain": [
              "array(6.)"
            ]
          },
          "metadata": {
            "tags": []
          },
          "execution_count": 22
        }
      ]
    }
  ]
}
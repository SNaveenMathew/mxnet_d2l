{
  "nbformat": 4,
  "nbformat_minor": 0,
  "metadata": {
    "colab": {
      "name": "2.5. Automatic Differentiation",
      "provenance": []
    },
    "kernelspec": {
      "name": "python3",
      "display_name": "Python 3"
    }
  },
  "cells": [
    {
      "cell_type": "code",
      "metadata": {
        "id": "rQhOMDIAnqtm",
        "colab_type": "code",
        "colab": {}
      },
      "source": [
        "from mxnet import autograd, np, npx\n",
        "npx.set_np()"
      ],
      "execution_count": 0,
      "outputs": []
    },
    {
      "cell_type": "code",
      "metadata": {
        "id": "6thSCVxMoTh7",
        "colab_type": "code",
        "outputId": "a493d6fb-1be1-4ac8-d335-5f7e4898741c",
        "colab": {
          "base_uri": "https://localhost:8080/",
          "height": 34
        }
      },
      "source": [
        "x = np.arange(4)\n",
        "x.attach_grad()\n",
        "x.grad"
      ],
      "execution_count": 2,
      "outputs": [
        {
          "output_type": "execute_result",
          "data": {
            "text/plain": [
              "array([0., 0., 0., 0.])"
            ]
          },
          "metadata": {
            "tags": []
          },
          "execution_count": 2
        }
      ]
    },
    {
      "cell_type": "code",
      "metadata": {
        "id": "kStmsegvobCc",
        "colab_type": "code",
        "outputId": "af03f350-3bc2-454d-e7da-d2eae450539c",
        "colab": {
          "base_uri": "https://localhost:8080/",
          "height": 34
        }
      },
      "source": [
        "with autograd.record():\n",
        "    y = 2 * np.dot(x, x) # Same as 2 * (L2 norm)^2\n",
        "\n",
        "y"
      ],
      "execution_count": 3,
      "outputs": [
        {
          "output_type": "execute_result",
          "data": {
            "text/plain": [
              "array(28.)"
            ]
          },
          "metadata": {
            "tags": []
          },
          "execution_count": 3
        }
      ]
    },
    {
      "cell_type": "code",
      "metadata": {
        "id": "2iHNmNw4z9vq",
        "colab_type": "code",
        "colab": {}
      },
      "source": [
        "y.backward()"
      ],
      "execution_count": 0,
      "outputs": []
    },
    {
      "cell_type": "code",
      "metadata": {
        "id": "l1UuDs6Cz-mK",
        "colab_type": "code",
        "colab": {
          "base_uri": "https://localhost:8080/",
          "height": 34
        },
        "outputId": "e40ede4c-6b8c-40b6-8bf2-dfe02ffd8dba"
      },
      "source": [
        "x.grad"
      ],
      "execution_count": 5,
      "outputs": [
        {
          "output_type": "execute_result",
          "data": {
            "text/plain": [
              "array([ 0.,  4.,  8., 12.])"
            ]
          },
          "metadata": {
            "tags": []
          },
          "execution_count": 5
        }
      ]
    },
    {
      "cell_type": "code",
      "metadata": {
        "id": "bbWkTmwz0Esx",
        "colab_type": "code",
        "colab": {
          "base_uri": "https://localhost:8080/",
          "height": 34
        },
        "outputId": "bc350e73-226f-4bbd-aca3-aa247406dc1a"
      },
      "source": [
        "with autograd.record():\n",
        "    y = x.sum() # Sum of each element\n",
        "\n",
        "y.backward()\n",
        "x.grad"
      ],
      "execution_count": 6,
      "outputs": [
        {
          "output_type": "execute_result",
          "data": {
            "text/plain": [
              "array([1., 1., 1., 1.])"
            ]
          },
          "metadata": {
            "tags": []
          },
          "execution_count": 6
        }
      ]
    },
    {
      "cell_type": "code",
      "metadata": {
        "id": "vsx1IdEC0Kjk",
        "colab_type": "code",
        "colab": {
          "base_uri": "https://localhost:8080/",
          "height": 34
        },
        "outputId": "25ab3899-3f7e-4ec4-fbd9-2defd1b2eed3"
      },
      "source": [
        "with autograd.record():\n",
        "    y = np.abs(x).sum() # L1 norm\n",
        "\n",
        "y.backward()\n",
        "x.grad"
      ],
      "execution_count": 7,
      "outputs": [
        {
          "output_type": "execute_result",
          "data": {
            "text/plain": [
              "array([0., 1., 1., 1.])"
            ]
          },
          "metadata": {
            "tags": []
          },
          "execution_count": 7
        }
      ]
    },
    {
      "cell_type": "code",
      "metadata": {
        "id": "IQI0A-p-0Zm_",
        "colab_type": "code",
        "colab": {
          "base_uri": "https://localhost:8080/",
          "height": 34
        },
        "outputId": "e8cc6ce2-c544-4b67-c2ef-4c4452bf2d87"
      },
      "source": [
        "with autograd.record():\n",
        "    y = x * x  # y is a vector\n",
        "\n",
        "y.backward() # Assumes we want to sum elements of y. Autograd is for scalars only?\n",
        "\n",
        "u = x.copy()\n",
        "u.attach_grad()\n",
        "with autograd.record():\n",
        "    v = (u * u).sum()  # v is a scalar\n",
        "\n",
        "v.backward()\n",
        "\n",
        "x.grad == u.grad"
      ],
      "execution_count": 8,
      "outputs": [
        {
          "output_type": "execute_result",
          "data": {
            "text/plain": [
              "array([ True,  True,  True,  True])"
            ]
          },
          "metadata": {
            "tags": []
          },
          "execution_count": 8
        }
      ]
    },
    {
      "cell_type": "code",
      "metadata": {
        "id": "j0JfZItS0piE",
        "colab_type": "code",
        "colab": {
          "base_uri": "https://localhost:8080/",
          "height": 34
        },
        "outputId": "de3c5a40-823e-4f9c-c165-719a9ad18510"
      },
      "source": [
        "with autograd.record():\n",
        "    y = x * x\n",
        "    u = y.detach() # Returns y, but detached from computation graph\n",
        "    z = u * x\n",
        "\n",
        "z.backward()\n",
        "x.grad == u"
      ],
      "execution_count": 9,
      "outputs": [
        {
          "output_type": "execute_result",
          "data": {
            "text/plain": [
              "array([ True,  True,  True,  True])"
            ]
          },
          "metadata": {
            "tags": []
          },
          "execution_count": 9
        }
      ]
    },
    {
      "cell_type": "code",
      "metadata": {
        "id": "K-8ithol0vA5",
        "colab_type": "code",
        "colab": {
          "base_uri": "https://localhost:8080/",
          "height": 34
        },
        "outputId": "db5f8d25-2dea-4039-b01d-0037f75d4d47"
      },
      "source": [
        "y = np.ones(4) * 2\n",
        "y.attach_grad()\n",
        "with autograd.record():\n",
        "    u = x * y\n",
        "    u.attach_grad()  # Implicitly run u = u.detach()\n",
        "    z = 5 * u - x\n",
        "\n",
        "z.backward()\n",
        "x.grad, u.grad, y.grad"
      ],
      "execution_count": 10,
      "outputs": [
        {
          "output_type": "execute_result",
          "data": {
            "text/plain": [
              "(array([-1., -1., -1., -1.]), array([5., 5., 5., 5.]), array([0., 0., 0., 0.]))"
            ]
          },
          "metadata": {
            "tags": []
          },
          "execution_count": 10
        }
      ]
    },
    {
      "cell_type": "code",
      "metadata": {
        "id": "IfJxIvDz38OO",
        "colab_type": "code",
        "colab": {}
      },
      "source": [
        "# Gradient of arbitrary function\n",
        "def f(a):\n",
        "    b = a * 2\n",
        "    while np.linalg.norm(b) < 1000:\n",
        "        b = b * 2\n",
        "    if b.sum() > 0:\n",
        "        c = b\n",
        "    else:\n",
        "        c = 100 * b\n",
        "    return c\n",
        "\n",
        "a = np.random.normal()\n",
        "a.attach_grad()\n",
        "with autograd.record():\n",
        "    d = f(a)\n",
        "\n",
        "d.backward()"
      ],
      "execution_count": 0,
      "outputs": []
    },
    {
      "cell_type": "code",
      "metadata": {
        "id": "O3OgqWMz4FfO",
        "colab_type": "code",
        "colab": {
          "base_uri": "https://localhost:8080/",
          "height": 34
        },
        "outputId": "386e67d9-d2f3-4e52-e0f9-12722c20e1cf"
      },
      "source": [
        "a.grad == d / a # Gradient check"
      ],
      "execution_count": 12,
      "outputs": [
        {
          "output_type": "execute_result",
          "data": {
            "text/plain": [
              "array(True)"
            ]
          },
          "metadata": {
            "tags": []
          },
          "execution_count": 12
        }
      ]
    },
    {
      "cell_type": "code",
      "metadata": {
        "id": "IMBRYudH4J4c",
        "colab_type": "code",
        "colab": {
          "base_uri": "https://localhost:8080/",
          "height": 50
        },
        "outputId": "997b0c1a-2cb4-4f5b-8053-c86e1f677cd2"
      },
      "source": [
        "print(autograd.is_training()) # Prediction mode\n",
        "with autograd.record():\n",
        "    print(autograd.is_training()) # Training mode\n",
        "\n",
        "# Works like PyTorch"
      ],
      "execution_count": 13,
      "outputs": [
        {
          "output_type": "stream",
          "text": [
            "False\n",
            "True\n"
          ],
          "name": "stdout"
        }
      ]
    }
  ]
}